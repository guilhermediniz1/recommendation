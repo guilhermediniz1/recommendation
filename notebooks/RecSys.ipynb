{
 "cells": [
  {
   "cell_type": "markdown",
   "id": "b271df46-a274-43a3-a1b9-609b92b51e6d",
   "metadata": {},
   "source": [
    "## Dados:"
   ]
  },
  {
   "cell_type": "code",
   "execution_count": 4,
   "id": "e9e72f0a-5aab-44e2-8dc3-ac19e6f9947b",
   "metadata": {},
   "outputs": [],
   "source": [
    "# Importe os dados necessários\n",
    "import pandas as pd\n",
    "import numpy as np\n",
    "from matplotlib import pyplot as plt\n",
    "import seaborn as sns\n",
    "from scipy.sparse import csr_matrix\n",
    "from sklearn.model_selection import train_test_split\n",
    "import os, shutil"
   ]
  },
  {
   "cell_type": "code",
   "execution_count": null,
   "id": "0d91be3d-f836-4811-929a-ac9280d6b08d",
   "metadata": {},
   "outputs": [],
   "source": [
    "# Defina o estilo dos gráficos:\n",
    "plt.style.use('seaborn-v0_8-darkgrid')\n",
    "sns.set(font_scale=1.)"
   ]
  },
  {
   "cell_type": "markdown",
   "id": "31306ecb-0578-445b-a076-48769440f490",
   "metadata": {},
   "source": [
    "#### Preparação dos dados"
   ]
  },
  {
   "cell_type": "code",
   "execution_count": 2,
   "id": "b2efd907-e7e6-4910-bcc0-cc7adc13d5a0",
   "metadata": {},
   "outputs": [
    {
     "name": "stdout",
     "output_type": "stream",
     "text": [
      "Requirement already satisfied: pip in /home/g/dev/recommendation/venv/lib/python3.12/site-packages (25.1.1)\n",
      "Requirement already satisfied: kagglehub in /home/g/dev/recommendation/venv/lib/python3.12/site-packages (0.3.12)\n",
      "Requirement already satisfied: packaging in /home/g/dev/recommendation/venv/lib/python3.12/site-packages (from kagglehub) (25.0)\n",
      "Requirement already satisfied: pyyaml in /home/g/dev/recommendation/venv/lib/python3.12/site-packages (from kagglehub) (6.0.2)\n",
      "Requirement already satisfied: requests in /home/g/dev/recommendation/venv/lib/python3.12/site-packages (from kagglehub) (2.32.3)\n",
      "Requirement already satisfied: tqdm in /home/g/dev/recommendation/venv/lib/python3.12/site-packages (from kagglehub) (4.67.1)\n",
      "Requirement already satisfied: charset-normalizer<4,>=2 in /home/g/dev/recommendation/venv/lib/python3.12/site-packages (from requests->kagglehub) (3.4.2)\n",
      "Requirement already satisfied: idna<4,>=2.5 in /home/g/dev/recommendation/venv/lib/python3.12/site-packages (from requests->kagglehub) (3.10)\n",
      "Requirement already satisfied: urllib3<3,>=1.21.1 in /home/g/dev/recommendation/venv/lib/python3.12/site-packages (from requests->kagglehub) (2.4.0)\n",
      "Requirement already satisfied: certifi>=2017.4.17 in /home/g/dev/recommendation/venv/lib/python3.12/site-packages (from requests->kagglehub) (2025.4.26)\n"
     ]
    }
   ],
   "source": [
    "# Se necessário, instale o kagglehub:\n",
    "!pip install -U pip\n",
    "!pip install kagglehub"
   ]
  },
  {
   "cell_type": "code",
   "execution_count": 5,
   "id": "73f15ee6-9413-4fed-934b-f64bc9bbd92c",
   "metadata": {},
   "outputs": [
    {
     "name": "stdout",
     "output_type": "stream",
     "text": [
      "Downloading from https://www.kaggle.com/api/v1/datasets/download/tamber/steam-video-games?dataset_version_number=3...\n"
     ]
    },
    {
     "name": "stderr",
     "output_type": "stream",
     "text": [
      "100%|████████████████████████████████████████████████████████████████| 1.46M/1.46M [00:00<00:00, 1.86MB/s]"
     ]
    },
    {
     "name": "stdout",
     "output_type": "stream",
     "text": [
      "Extracting files...\n",
      "Local dos arquivos: ./data/steam-video-games\n",
      "Arquivos:\n",
      " ['steam-200k.csv']\n"
     ]
    },
    {
     "name": "stderr",
     "output_type": "stream",
     "text": [
      "\n"
     ]
    }
   ],
   "source": [
    "import kagglehub\n",
    "\n",
    "def get_dataset_info(dataset: str, root='./data', target=None):\n",
    "    db_types = ['game', 'book', 'anime', 'lastfm']\n",
    "    assert dataset.lower() in db_types, f'Select one dataset from: {db_types}'\n",
    "    if dataset == db_types[0]:\n",
    "        # Steam VideoGame\n",
    "        dataset = \"tamber/steam-video-games\"\n",
    "        target  = os.path.join(root,\n",
    "                               'steam-video-games'  if target is None else target)\n",
    "    elif dataset == db_types[1]:\n",
    "        # GoodBooks\n",
    "        dataset = \"arashnic/book-recommendation-dataset\"\n",
    "        target  = os.path.join(root,\n",
    "                               'book-recommendation-dataset' if target is None else target)\n",
    "    elif dataset == db_types[2]:\n",
    "        # Anime\n",
    "        dataset = \"CooperUnion/anime-recommendations-database\"\n",
    "        target  = os.path.join(root,\n",
    "                               'anime-recommendations-database' if target is None else target)\n",
    "    elif dataset == db_types[3]:\n",
    "        # LastFM dataset (music)\n",
    "        dataset = \"harshal19t/lastfm-dataset\"\n",
    "        target  = os.path.join(root,\n",
    "                               'lastfm-dataset' if target is None else target)\n",
    "    return dataset, root, target\n",
    "\n",
    "# Defina seu dataset aqui:\n",
    "DATASET = 'game'\n",
    "\n",
    "KAGGLE_DATASET, ROOT_DATA_PATH, DATA_PATH = get_dataset_info(DATASET)\n",
    "if os.path.isdir(DATA_PATH):\n",
    "    print('Dataset já baixado!')\n",
    "else:\n",
    "    #kagglehub.login()\n",
    "    path = kagglehub.dataset_download(handle=KAGGLE_DATASET)\n",
    "    os.makedirs(ROOT_DATA_PATH, exist_ok=True)\n",
    "    shutil.move(path, DATA_PATH)\n",
    "    \n",
    "print(\"Local dos arquivos:\", DATA_PATH)\n",
    "print(\"Arquivos:\\n\", os.listdir(DATA_PATH))"
   ]
  },
  {
   "cell_type": "markdown",
   "id": "28a18d64-9729-42e1-bba3-5cebcc29b4b2",
   "metadata": {},
   "source": [
    "#### Análise dos dados"
   ]
  },
  {
   "cell_type": "code",
   "execution_count": 53,
   "id": "e2ba8105-1c00-44ea-aa4d-476bc35a2b1b",
   "metadata": {},
   "outputs": [
    {
     "data": {
      "text/html": [
       "<div>\n",
       "<style scoped>\n",
       "    .dataframe tbody tr th:only-of-type {\n",
       "        vertical-align: middle;\n",
       "    }\n",
       "\n",
       "    .dataframe tbody tr th {\n",
       "        vertical-align: top;\n",
       "    }\n",
       "\n",
       "    .dataframe thead th {\n",
       "        text-align: right;\n",
       "    }\n",
       "</style>\n",
       "<table border=\"1\" class=\"dataframe\">\n",
       "  <thead>\n",
       "    <tr style=\"text-align: right;\">\n",
       "      <th></th>\n",
       "      <th>user_id</th>\n",
       "      <th>item_id</th>\n",
       "      <th>rating</th>\n",
       "    </tr>\n",
       "  </thead>\n",
       "  <tbody>\n",
       "    <tr>\n",
       "      <th>1</th>\n",
       "      <td>151603712</td>\n",
       "      <td>The Elder Scrolls V Skyrim</td>\n",
       "      <td>10.0</td>\n",
       "    </tr>\n",
       "    <tr>\n",
       "      <th>3</th>\n",
       "      <td>151603712</td>\n",
       "      <td>Fallout 4</td>\n",
       "      <td>3.0</td>\n",
       "    </tr>\n",
       "    <tr>\n",
       "      <th>69</th>\n",
       "      <td>59945701</td>\n",
       "      <td>Ultra Street Fighter IV</td>\n",
       "      <td>10.0</td>\n",
       "    </tr>\n",
       "    <tr>\n",
       "      <th>71</th>\n",
       "      <td>59945701</td>\n",
       "      <td>FINAL FANTASY XIII</td>\n",
       "      <td>4.0</td>\n",
       "    </tr>\n",
       "    <tr>\n",
       "      <th>73</th>\n",
       "      <td>59945701</td>\n",
       "      <td>The Elder Scrolls V Skyrim</td>\n",
       "      <td>2.0</td>\n",
       "    </tr>\n",
       "    <tr>\n",
       "      <th>134</th>\n",
       "      <td>53875128</td>\n",
       "      <td>Grand Theft Auto V</td>\n",
       "      <td>10.0</td>\n",
       "    </tr>\n",
       "    <tr>\n",
       "      <th>136</th>\n",
       "      <td>53875128</td>\n",
       "      <td>Insurgency</td>\n",
       "      <td>8.0</td>\n",
       "    </tr>\n",
       "    <tr>\n",
       "      <th>138</th>\n",
       "      <td>53875128</td>\n",
       "      <td>Left 4 Dead 2</td>\n",
       "      <td>8.0</td>\n",
       "    </tr>\n",
       "    <tr>\n",
       "      <th>140</th>\n",
       "      <td>53875128</td>\n",
       "      <td>METAL GEAR SOLID V THE PHANTOM PAIN</td>\n",
       "      <td>7.0</td>\n",
       "    </tr>\n",
       "    <tr>\n",
       "      <th>142</th>\n",
       "      <td>53875128</td>\n",
       "      <td>S.T.A.L.K.E.R. Shadow of Chernobyl</td>\n",
       "      <td>6.0</td>\n",
       "    </tr>\n",
       "  </tbody>\n",
       "</table>\n",
       "</div>"
      ],
      "text/plain": [
       "       user_id                              item_id  rating\n",
       "1    151603712           The Elder Scrolls V Skyrim    10.0\n",
       "3    151603712                            Fallout 4     3.0\n",
       "69    59945701              Ultra Street Fighter IV    10.0\n",
       "71    59945701                   FINAL FANTASY XIII     4.0\n",
       "73    59945701           The Elder Scrolls V Skyrim     2.0\n",
       "134   53875128                   Grand Theft Auto V    10.0\n",
       "136   53875128                           Insurgency     8.0\n",
       "138   53875128                        Left 4 Dead 2     8.0\n",
       "140   53875128  METAL GEAR SOLID V THE PHANTOM PAIN     7.0\n",
       "142   53875128   S.T.A.L.K.E.R. Shadow of Chernobyl     6.0"
      ]
     },
     "execution_count": 53,
     "metadata": {},
     "output_type": "execute_result"
    }
   ],
   "source": [
    "if DATASET == 'anime':\n",
    "    # Anime:\n",
    "    #==> anime-recommendations-database/rating.csv <==\n",
    "    #user_id,anime_id,rating\n",
    "    #1,20,-1\n",
    "    ratings = pd.read_csv(os.path.join(DATA_PATH, 'rating.csv'))\n",
    "    ratings = ratings[ratings['rating'] > 0]\n",
    "    ratings.rename(columns={'anime_id':'item_id'}, inplace=True)\n",
    "    ratings['rating'] = ratings['rating'].astype(float)\n",
    "elif DATASET == 'book':\n",
    "    # GoodBook\n",
    "    #==> book-recommendation-dataset/Ratings.csv <==\n",
    "    #User-ID,ISBN,Book-Rating\n",
    "    #276725,034545104X,0\n",
    "    books = pd.read_csv(os.path.join(DATA_PATH,'Books.csv'), low_memory=False)\n",
    "    ratings = pd.read_csv(os.path.join(DATA_PATH, 'Ratings.csv'), low_memory=False)\n",
    "    ratings = ratings.merge(books, on='ISBN')    \n",
    "    ratings = ratings[ratings['Book-Rating'] > 0]\n",
    "    POPULARITY_THRESHOLD = 50\n",
    "    num_rating_df = ratings_with_name.groupby('Book-Title').count()['Book-Rating'].reset_index()\n",
    "    popular_books = num_rating_df[num_rating_df['Book-Rating'] >= POPULARITY_THRESHOLD]\n",
    "    ratings = ratings[ratings['Book-Title'].isin(popular_books['Book-Title'])]\n",
    "    ACTIVITY_THRESHOLD = 200\n",
    "    user_activity_df = ratings_popular_books.groupby('User-ID').count()['Book-Rating'].reset_index()\n",
    "    active_users = user_activity_df[user_activity_df['Book-Rating'] >= ACTIVITY_THRESHOLD]\n",
    "    ratings = ratings[ratings['User-ID'].isin(active_users['User-ID'])]\n",
    "    ratings.rename(columns={'User-ID':'user_id', 'ISBN':'item_id', 'Book-Rating':'rating'}, inplace=True)\n",
    "    ratings = ratings[['user_id', 'item_id', 'rating']]\n",
    "    ratings['rating'] = ratings['rating'].astype(float)\n",
    "elif DATASET == 'game':\n",
    "    # Steam Games\n",
    "    #==> steam-video-games/steam-200k.csv <==\n",
    "    #151603712,\"The Elder Scrolls V Skyrim\",purchase,1.0,0\n",
    "    column_names = ['user_id', 'item_id', 'state', 'time', '0']\n",
    "    ratings = pd.read_csv(os.path.join(DATA_PATH, 'steam-200k.csv'), names=column_names)\n",
    "    ratings = ratings[ratings['state'] == 'play']\n",
    "    #ratings = ratings[ratings['time'] > 0]\n",
    "    # Usando o tempo para rating:\n",
    "    ratings['min_time'] = ratings.groupby('user_id')['time'].transform('min')\n",
    "    ratings['max_time'] = ratings.groupby('user_id')['time'].transform('max')\n",
    "    ratings['rating'] = 10*(ratings['time'] - ratings['min_time'])/(ratings['max_time'] - ratings['min_time'])\n",
    "    ratings = ratings[ratings['rating']>1.].round()\n",
    "    ratings = ratings.drop(['state', 'time', '0', 'min_time', 'max_time'], axis='columns')\n",
    "elif DATASET == 'lastfm':\n",
    "    #==> lastfm-dataset/Last.fm_data.csv <==\n",
    "    #,Username,Artist,Track,Album,Date,Time\n",
    "    #0,Babs_05,Isobel Campbell,The Circus Is Leaving Town,Ballad of the Broken Seas,31 Jan 2021, 23:36\n",
    "    #1,Babs_05,Isobel Campbell,Dusty Wreath,Ballad of the Broken Seas,31 Jan 2021, 23:32\n",
    "    ratings = pd.read_csv(os.path.join(DATA_PATH, 'Last.fm_data.csv'), index_col=0)\n",
    "    df_plays = ratings.groupby(['Username', 'Artist', 'Track']).size().reset_index(name='plays')\n",
    "    df_plays = df_plays[df_plays['plays'] > 0]\n",
    "    df_plays['min_plays'] = df_plays.groupby('Username')['plays'].transform('min')\n",
    "    df_plays['max_plays'] = df_plays.groupby('Username')['plays'].transform('max')\n",
    "    ratings['rating'] = (df_plays['plays'] - df_plays['min_plays'])/(df_plays['max_plays'] - df_plays['min_plays'])\n",
    "    ratings = ratings[ratings['rating'] > 0]\n",
    "    ratings['rating'] = ratings['rating'] * 10\n",
    "    ratings.rename(columns={'Username': 'user_id', 'Track': 'item_id'}, inplace=True)\n",
    "    ratings = ratings[['user_id', 'item_id', 'rating']]\n",
    "else:\n",
    "    print(\"Seu DATASET está errado!!!!\")\n",
    "\n",
    "ratings.head(10)"
   ]
  },
  {
   "cell_type": "code",
   "execution_count": 7,
   "id": "ed681379-e7d7-4156-b3b9-6a3973d75d3e",
   "metadata": {},
   "outputs": [
    {
     "data": {
      "text/plain": [
       "1         10.0\n",
       "3          3.0\n",
       "5          1.0\n",
       "7          0.0\n",
       "9          0.0\n",
       "          ... \n",
       "199991     0.0\n",
       "199993     0.0\n",
       "199995     0.0\n",
       "199997     0.0\n",
       "199999     0.0\n",
       "Name: rating, Length: 70489, dtype: float64"
      ]
     },
     "execution_count": 7,
     "metadata": {},
     "output_type": "execute_result"
    }
   ],
   "source": [
    "\n",
    "ratings['rating']"
   ]
  },
  {
   "cell_type": "code",
   "execution_count": 8,
   "id": "ebdf64f0-5de4-412f-990c-4c41f57b6652",
   "metadata": {},
   "outputs": [
    {
     "name": "stdout",
     "output_type": "stream",
     "text": [
      "\n",
      "Estatísticas descritivas das avaliações:\n",
      "count    63892.000000\n",
      "mean         1.360155\n",
      "std          2.864322\n",
      "min          0.000000\n",
      "25%          0.000000\n",
      "50%          0.000000\n",
      "75%          1.000000\n",
      "max         10.000000\n",
      "Name: rating, dtype: float64\n"
     ]
    },
    {
     "data": {
      "text/plain": [
       "<Axes: ylabel='rating'>"
      ]
     },
     "execution_count": 8,
     "metadata": {},
     "output_type": "execute_result"
    },
    {
     "data": {
      "image/png": "[encoded data removed]",
      "text/plain": [
       "<Figure size 200x400 with 1 Axes>"
      ]
     },
     "metadata": {},
     "output_type": "display_data"
    }
   ],
   "source": [
    "print(\"\\nEstatísticas descritivas das avaliações:\")\n",
    "print(ratings['rating'].describe())\n",
    "plt.figure(figsize=(2,4))\n",
    "sns.boxplot(data=ratings, y='rating', color='.8', linecolor=\"#000\", linewidth=0.4, showmeans=True)"
   ]
  },
  {
   "cell_type": "code",
   "execution_count": 51,
   "id": "f1679b43-204c-4355-b156-29f0c371bc05",
   "metadata": {},
   "outputs": [],
   "source": [
    "def set_title_and_axes(title, xlabel, ylabel):\n",
    "    # Analisando o número de avaliações por usuário\n",
    "    plt.title(title)\n",
    "    plt.xlabel(xlabel)\n",
    "    plt.ylabel(ylabel)"
   ]
  },
  {
   "cell_type": "code",
   "execution_count": 54,
   "id": "ee2eec8b-2bc2-436f-b62e-0fe847dd8846",
   "metadata": {},
   "outputs": [
    {
     "data": {
      "image/png": "[encoded data removed]",
      "text/plain": [
       "<Figure size 1000x600 with 1 Axes>"
      ]
     },
     "metadata": {},
     "output_type": "display_data"
    }
   ],
   "source": [
    "plt.figure(figsize=(10, 6))\n",
    "sns.countplot(x='rating', hue='rating', data=ratings, palette='viridis', legend=False)\n",
    "set_title_and_axes('Distribuição das Avaliações', 'Avaliação', 'Contagem')"
   ]
  },
  {
   "cell_type": "code",
   "execution_count": 56,
   "id": "25d3ec82-16da-4877-a269-e3032025f576",
   "metadata": {},
   "outputs": [
    {
     "data": {
      "text/plain": [
       "user_id\n",
       "5250         2\n",
       "76767        5\n",
       "86540        5\n",
       "181212       1\n",
       "229911       4\n",
       "            ..\n",
       "308760273    1\n",
       "309052991    1\n",
       "309188905    1\n",
       "309265377    1\n",
       "309404240    3\n",
       "Length: 4772, dtype: int64"
      ]
     },
     "execution_count": 56,
     "metadata": {},
     "output_type": "execute_result"
    }
   ],
   "source": [
    "# Analisando o número de avaliações por usuário\n",
    "ratings_per_user = ratings.groupby('user_id').size()\n",
    "ratings_per_user"
   ]
  },
  {
   "cell_type": "code",
   "execution_count": 57,
   "id": "1c0c621b-41b3-4f9d-b06a-af815f99498a",
   "metadata": {},
   "outputs": [
    {
     "name": "stdout",
     "output_type": "stream",
     "text": [
      "Usuário 24469287:  54 votos\n",
      "Usuário 51557405:  50 votos\n",
      "Usuário 17530772:  46 votos\n",
      "Usuário 86469479:  45 votos\n",
      "Usuário 58345543:  44 votos\n",
      "Usuário 53875128:  42 votos\n",
      "Usuário 65958466:  40 votos\n",
      "Usuário 1936551:  39 votos\n",
      "Usuário 101690993:  35 votos\n",
      "Usuário 11970504:  35 votos\n"
     ]
    }
   ],
   "source": [
    "from collections import Counter\n",
    "#print('\\n'.join(f'Usuário {u:3d}: {v:3d} votos' for u,v in Counter(ratings['user_id']).most_common(10)))\n",
    "for u,v in Counter(ratings['user_id']).most_common(10):\n",
    "    print(f'Usuário {u:3d}: {v:3d} votos')"
   ]
  },
  {
   "cell_type": "code",
   "execution_count": 58,
   "id": "7ca1bf07-d3d3-4c74-b9e4-e109b9899ec1",
   "metadata": {},
   "outputs": [
    {
     "data": {
      "image/png": "[encoded data removed]",
      "text/plain": [
       "<Figure size 1000x600 with 1 Axes>"
      ]
     },
     "metadata": {},
     "output_type": "display_data"
    },
    {
     "data": {
      "image/png": "[encoded data removed]",
      "text/plain": [
       "<Figure size 1000x600 with 1 Axes>"
      ]
     },
     "metadata": {},
     "output_type": "display_data"
    }
   ],
   "source": [
    "# Exibindo os dados em um histograma com 10 e com 50 barras (bins):\n",
    "plt.figure(figsize=(10, 6))\n",
    "sns.histplot(ratings_per_user, bins=10, kde=True)\n",
    "set_title_and_axes('Distribuição do Número de Avaliações por Usuário',\n",
    "                   'Número de Avaliações','Número de Usuários')\n",
    "plt.figure(figsize=(10, 6))\n",
    "sns.histplot(ratings_per_user, bins=50, kde=True)\n",
    "set_title_and_axes('Distribuição do Número de Avaliações por Usuário',\n",
    "                   'Número de Avaliações', 'Número de Usuários')"
   ]
  },
  {
   "cell_type": "code",
   "execution_count": 61,
   "id": "b2069d1b-0c44-4e38-9e5e-fd631729da0f",
   "metadata": {},
   "outputs": [
    {
     "data": {
      "image/png": "[encoded data removed]",
      "text/plain": [
       "<Figure size 1000x600 with 1 Axes>"
      ]
     },
     "metadata": {},
     "output_type": "display_data"
    }
   ],
   "source": [
    "# Analisando o número de avaliações por item\n",
    "ratings_per_movie = ratings.groupby('item_id').size()\n",
    "plt.figure(figsize=(10, 6))\n",
    "sns.histplot(ratings_per_movie, bins=50, kde=True)\n",
    "set_title_and_axes(f'Distribuição do Número de Avaliações por {DATASET}',\n",
    "                   'Número de Avaliações', f'Número de {DATASET}')"
   ]
  },
  {
   "cell_type": "code",
   "execution_count": 62,
   "id": "2bb9eea5-1a92-42c3-b3b5-e72be070396b",
   "metadata": {},
   "outputs": [
    {
     "data": {
      "text/html": [
       "<div>\n",
       "<style scoped>\n",
       "    .dataframe tbody tr th:only-of-type {\n",
       "        vertical-align: middle;\n",
       "    }\n",
       "\n",
       "    .dataframe tbody tr th {\n",
       "        vertical-align: top;\n",
       "    }\n",
       "\n",
       "    .dataframe thead th {\n",
       "        text-align: right;\n",
       "    }\n",
       "</style>\n",
       "<table border=\"1\" class=\"dataframe\">\n",
       "  <thead>\n",
       "    <tr style=\"text-align: right;\">\n",
       "      <th>item_id</th>\n",
       "      <th>1... 2... 3... KICK IT! (Drop That Beat Like an Ugly Baby)</th>\n",
       "      <th>100% Orange Juice</th>\n",
       "      <th>12 Labours of Hercules II The Cretan Bull</th>\n",
       "      <th>3DMark</th>\n",
       "      <th>3DMark Vantage</th>\n",
       "      <th>4 Elements</th>\n",
       "      <th>7 Days to Die</th>\n",
       "      <th>8BitMMO</th>\n",
       "      <th>A New Beginning - Final Cut</th>\n",
       "      <th>A Story About My Uncle</th>\n",
       "      <th>...</th>\n",
       "      <th>Zombies Monsters Robots</th>\n",
       "      <th>Zuma's Revenge</th>\n",
       "      <th>iBomber Defense Pacific</th>\n",
       "      <th>ibb &amp; obb</th>\n",
       "      <th>liteCam Game 100 FPS Game Capture</th>\n",
       "      <th>resident evil 4 / biohazard 4</th>\n",
       "      <th>sZone-Online</th>\n",
       "      <th>the static speaks my name</th>\n",
       "      <th>theHunter</th>\n",
       "      <th>theHunter Primal</th>\n",
       "    </tr>\n",
       "    <tr>\n",
       "      <th>user_id</th>\n",
       "      <th></th>\n",
       "      <th></th>\n",
       "      <th></th>\n",
       "      <th></th>\n",
       "      <th></th>\n",
       "      <th></th>\n",
       "      <th></th>\n",
       "      <th></th>\n",
       "      <th></th>\n",
       "      <th></th>\n",
       "      <th></th>\n",
       "      <th></th>\n",
       "      <th></th>\n",
       "      <th></th>\n",
       "      <th></th>\n",
       "      <th></th>\n",
       "      <th></th>\n",
       "      <th></th>\n",
       "      <th></th>\n",
       "      <th></th>\n",
       "      <th></th>\n",
       "    </tr>\n",
       "  </thead>\n",
       "  <tbody>\n",
       "    <tr>\n",
       "      <th>5250</th>\n",
       "      <td>0.0</td>\n",
       "      <td>0.0</td>\n",
       "      <td>0.0</td>\n",
       "      <td>0.0</td>\n",
       "      <td>0.0</td>\n",
       "      <td>0.0</td>\n",
       "      <td>0.0</td>\n",
       "      <td>0.0</td>\n",
       "      <td>0.0</td>\n",
       "      <td>0.0</td>\n",
       "      <td>...</td>\n",
       "      <td>0.0</td>\n",
       "      <td>0.0</td>\n",
       "      <td>0.0</td>\n",
       "      <td>0.0</td>\n",
       "      <td>0.0</td>\n",
       "      <td>0.0</td>\n",
       "      <td>0.0</td>\n",
       "      <td>0.0</td>\n",
       "      <td>0.0</td>\n",
       "      <td>0.0</td>\n",
       "    </tr>\n",
       "    <tr>\n",
       "      <th>76767</th>\n",
       "      <td>0.0</td>\n",
       "      <td>0.0</td>\n",
       "      <td>0.0</td>\n",
       "      <td>0.0</td>\n",
       "      <td>0.0</td>\n",
       "      <td>0.0</td>\n",
       "      <td>0.0</td>\n",
       "      <td>0.0</td>\n",
       "      <td>0.0</td>\n",
       "      <td>0.0</td>\n",
       "      <td>...</td>\n",
       "      <td>0.0</td>\n",
       "      <td>0.0</td>\n",
       "      <td>0.0</td>\n",
       "      <td>0.0</td>\n",
       "      <td>0.0</td>\n",
       "      <td>0.0</td>\n",
       "      <td>0.0</td>\n",
       "      <td>0.0</td>\n",
       "      <td>0.0</td>\n",
       "      <td>0.0</td>\n",
       "    </tr>\n",
       "    <tr>\n",
       "      <th>86540</th>\n",
       "      <td>0.0</td>\n",
       "      <td>0.0</td>\n",
       "      <td>0.0</td>\n",
       "      <td>0.0</td>\n",
       "      <td>0.0</td>\n",
       "      <td>0.0</td>\n",
       "      <td>0.0</td>\n",
       "      <td>0.0</td>\n",
       "      <td>0.0</td>\n",
       "      <td>0.0</td>\n",
       "      <td>...</td>\n",
       "      <td>0.0</td>\n",
       "      <td>0.0</td>\n",
       "      <td>0.0</td>\n",
       "      <td>0.0</td>\n",
       "      <td>0.0</td>\n",
       "      <td>0.0</td>\n",
       "      <td>0.0</td>\n",
       "      <td>0.0</td>\n",
       "      <td>0.0</td>\n",
       "      <td>0.0</td>\n",
       "    </tr>\n",
       "    <tr>\n",
       "      <th>181212</th>\n",
       "      <td>0.0</td>\n",
       "      <td>0.0</td>\n",
       "      <td>0.0</td>\n",
       "      <td>0.0</td>\n",
       "      <td>0.0</td>\n",
       "      <td>0.0</td>\n",
       "      <td>0.0</td>\n",
       "      <td>0.0</td>\n",
       "      <td>0.0</td>\n",
       "      <td>0.0</td>\n",
       "      <td>...</td>\n",
       "      <td>0.0</td>\n",
       "      <td>0.0</td>\n",
       "      <td>0.0</td>\n",
       "      <td>0.0</td>\n",
       "      <td>0.0</td>\n",
       "      <td>0.0</td>\n",
       "      <td>0.0</td>\n",
       "      <td>0.0</td>\n",
       "      <td>0.0</td>\n",
       "      <td>0.0</td>\n",
       "    </tr>\n",
       "    <tr>\n",
       "      <th>229911</th>\n",
       "      <td>0.0</td>\n",
       "      <td>0.0</td>\n",
       "      <td>0.0</td>\n",
       "      <td>0.0</td>\n",
       "      <td>0.0</td>\n",
       "      <td>0.0</td>\n",
       "      <td>0.0</td>\n",
       "      <td>0.0</td>\n",
       "      <td>0.0</td>\n",
       "      <td>0.0</td>\n",
       "      <td>...</td>\n",
       "      <td>0.0</td>\n",
       "      <td>0.0</td>\n",
       "      <td>0.0</td>\n",
       "      <td>0.0</td>\n",
       "      <td>0.0</td>\n",
       "      <td>0.0</td>\n",
       "      <td>0.0</td>\n",
       "      <td>0.0</td>\n",
       "      <td>0.0</td>\n",
       "      <td>0.0</td>\n",
       "    </tr>\n",
       "  </tbody>\n",
       "</table>\n",
       "<p>5 rows × 1386 columns</p>\n",
       "</div>"
      ],
      "text/plain": [
       "item_id  1... 2... 3... KICK IT! (Drop That Beat Like an Ugly Baby)  \\\n",
       "user_id                                                               \n",
       "5250                                                   0.0            \n",
       "76767                                                  0.0            \n",
       "86540                                                  0.0            \n",
       "181212                                                 0.0            \n",
       "229911                                                 0.0            \n",
       "\n",
       "item_id  100% Orange Juice  12 Labours of Hercules II The Cretan Bull  3DMark  \\\n",
       "user_id                                                                         \n",
       "5250                   0.0                                        0.0     0.0   \n",
       "76767                  0.0                                        0.0     0.0   \n",
       "86540                  0.0                                        0.0     0.0   \n",
       "181212                 0.0                                        0.0     0.0   \n",
       "229911                 0.0                                        0.0     0.0   \n",
       "\n",
       "item_id  3DMark Vantage  4 Elements  7 Days to Die  8BitMMO  \\\n",
       "user_id                                                       \n",
       "5250                0.0         0.0            0.0      0.0   \n",
       "76767               0.0         0.0            0.0      0.0   \n",
       "86540               0.0         0.0            0.0      0.0   \n",
       "181212              0.0         0.0            0.0      0.0   \n",
       "229911              0.0         0.0            0.0      0.0   \n",
       "\n",
       "item_id  A New Beginning - Final Cut  A Story About My Uncle  ...  \\\n",
       "user_id                                                       ...   \n",
       "5250                             0.0                     0.0  ...   \n",
       "76767                            0.0                     0.0  ...   \n",
       "86540                            0.0                     0.0  ...   \n",
       "181212                           0.0                     0.0  ...   \n",
       "229911                           0.0                     0.0  ...   \n",
       "\n",
       "item_id  Zombies Monsters Robots  Zuma's Revenge  iBomber Defense Pacific  \\\n",
       "user_id                                                                     \n",
       "5250                         0.0             0.0                      0.0   \n",
       "76767                        0.0             0.0                      0.0   \n",
       "86540                        0.0             0.0                      0.0   \n",
       "181212                       0.0             0.0                      0.0   \n",
       "229911                       0.0             0.0                      0.0   \n",
       "\n",
       "item_id  ibb & obb  liteCam Game 100 FPS Game Capture  \\\n",
       "user_id                                                 \n",
       "5250           0.0                                0.0   \n",
       "76767          0.0                                0.0   \n",
       "86540          0.0                                0.0   \n",
       "181212         0.0                                0.0   \n",
       "229911         0.0                                0.0   \n",
       "\n",
       "item_id  resident evil 4 / biohazard 4  sZone-Online  \\\n",
       "user_id                                                \n",
       "5250                               0.0           0.0   \n",
       "76767                              0.0           0.0   \n",
       "86540                              0.0           0.0   \n",
       "181212                             0.0           0.0   \n",
       "229911                             0.0           0.0   \n",
       "\n",
       "item_id  the static speaks my name  theHunter  theHunter Primal  \n",
       "user_id                                                          \n",
       "5250                           0.0        0.0               0.0  \n",
       "76767                          0.0        0.0               0.0  \n",
       "86540                          0.0        0.0               0.0  \n",
       "181212                         0.0        0.0               0.0  \n",
       "229911                         0.0        0.0               0.0  \n",
       "\n",
       "[5 rows x 1386 columns]"
      ]
     },
     "execution_count": 62,
     "metadata": {},
     "output_type": "execute_result"
    }
   ],
   "source": [
    "# Preparação dos dados para o modelo\n",
    "# Criando uma matriz de usuários x filmes\n",
    "user_item_matrix = ratings.pivot_table(\n",
    "    index='user_id', \n",
    "    columns='item_id', \n",
    "    values='rating',\n",
    "    aggfunc='mean',   # Define como lidar com duplicatas (aqui, tiramos a média)\n",
    "    fill_value=0      # Preenche os valores ausentes com 0\n",
    ")\n",
    "user_item_matrix.head()"
   ]
  },
  {
   "cell_type": "code",
   "execution_count": 63,
   "id": "28013944-e2da-4c0f-8159-a45f964a4691",
   "metadata": {},
   "outputs": [],
   "source": [
    "# Convertendo para matriz esparsa\n",
    "user_item_sparse = csr_matrix(user_item_matrix.values)"
   ]
  },
  {
   "cell_type": "code",
   "execution_count": 64,
   "id": "88bc2968-a0c9-4cf9-9977-b97b396352bb",
   "metadata": {},
   "outputs": [
    {
     "name": "stdout",
     "output_type": "stream",
     "text": [
      "Usuário \"151603712\" mapeado para \"0\"\n"
     ]
    }
   ],
   "source": [
    "# Criando mapeamento de IDs para índices contínuos (0 a n-1)\n",
    "user_id_map = {id: i for i, id in enumerate(ratings['user_id'].unique())}\n",
    "item_id_map = {id: i for i, id in enumerate(ratings['item_id'].unique())}\n",
    "'''Para quem tem dúvidas com Python, foi feito o seguinte:\n",
    "user_id_map = {}\n",
    "i = 0\n",
    "for id in ratings['user_id'].unique():\n",
    "    user_id_map[id] = i\n",
    "    i+=1\n",
    "'''\n",
    "first_item = list(user_id_map.items())[0]\n",
    "print(f'Usuário \"{first_item[0]}\" mapeado para \"{first_item[1]}\"')"
   ]
  },
  {
   "cell_type": "code",
   "execution_count": 65,
   "id": "74873340-23da-4fcd-aa38-8da6e72e3007",
   "metadata": {},
   "outputs": [
    {
     "data": {
      "text/plain": [
       "[(np.int64(151603712), 0),\n",
       " (np.int64(59945701), 1),\n",
       " (np.int64(53875128), 2),\n",
       " (np.int64(26122540), 3),\n",
       " (np.int64(297811211), 4),\n",
       " (np.int64(218323237), 5),\n",
       " (np.int64(126340495), 6),\n",
       " (np.int64(194895541), 7),\n",
       " (np.int64(97298878), 8),\n",
       " (np.int64(173909336), 9)]"
      ]
     },
     "execution_count": 65,
     "metadata": {},
     "output_type": "execute_result"
    }
   ],
   "source": [
    "list(user_id_map.items())[:10]"
   ]
  },
  {
   "cell_type": "code",
   "execution_count": 66,
   "id": "8e8a2d71-4d69-4651-aaeb-281a19f8a114",
   "metadata": {},
   "outputs": [
    {
     "name": "stdout",
     "output_type": "stream",
     "text": [
      "Note as novas colunas: \"user_idx\" e \"item_idx\"\n"
     ]
    },
    {
     "data": {
      "text/html": [
       "<div>\n",
       "<style scoped>\n",
       "    .dataframe tbody tr th:only-of-type {\n",
       "        vertical-align: middle;\n",
       "    }\n",
       "\n",
       "    .dataframe tbody tr th {\n",
       "        vertical-align: top;\n",
       "    }\n",
       "\n",
       "    .dataframe thead th {\n",
       "        text-align: right;\n",
       "    }\n",
       "</style>\n",
       "<table border=\"1\" class=\"dataframe\">\n",
       "  <thead>\n",
       "    <tr style=\"text-align: right;\">\n",
       "      <th></th>\n",
       "      <th>user_id</th>\n",
       "      <th>item_id</th>\n",
       "      <th>rating</th>\n",
       "      <th>user_idx</th>\n",
       "      <th>item_idx</th>\n",
       "    </tr>\n",
       "  </thead>\n",
       "  <tbody>\n",
       "    <tr>\n",
       "      <th>1</th>\n",
       "      <td>151603712</td>\n",
       "      <td>The Elder Scrolls V Skyrim</td>\n",
       "      <td>10.0</td>\n",
       "      <td>0</td>\n",
       "      <td>0</td>\n",
       "    </tr>\n",
       "    <tr>\n",
       "      <th>3</th>\n",
       "      <td>151603712</td>\n",
       "      <td>Fallout 4</td>\n",
       "      <td>3.0</td>\n",
       "      <td>0</td>\n",
       "      <td>1</td>\n",
       "    </tr>\n",
       "    <tr>\n",
       "      <th>69</th>\n",
       "      <td>59945701</td>\n",
       "      <td>Ultra Street Fighter IV</td>\n",
       "      <td>10.0</td>\n",
       "      <td>1</td>\n",
       "      <td>2</td>\n",
       "    </tr>\n",
       "    <tr>\n",
       "      <th>71</th>\n",
       "      <td>59945701</td>\n",
       "      <td>FINAL FANTASY XIII</td>\n",
       "      <td>4.0</td>\n",
       "      <td>1</td>\n",
       "      <td>3</td>\n",
       "    </tr>\n",
       "    <tr>\n",
       "      <th>73</th>\n",
       "      <td>59945701</td>\n",
       "      <td>The Elder Scrolls V Skyrim</td>\n",
       "      <td>2.0</td>\n",
       "      <td>1</td>\n",
       "      <td>0</td>\n",
       "    </tr>\n",
       "    <tr>\n",
       "      <th>...</th>\n",
       "      <td>...</td>\n",
       "      <td>...</td>\n",
       "      <td>...</td>\n",
       "      <td>...</td>\n",
       "      <td>...</td>\n",
       "    </tr>\n",
       "    <tr>\n",
       "      <th>199961</th>\n",
       "      <td>221315846</td>\n",
       "      <td>Dota 2</td>\n",
       "      <td>10.0</td>\n",
       "      <td>4770</td>\n",
       "      <td>52</td>\n",
       "    </tr>\n",
       "    <tr>\n",
       "      <th>199963</th>\n",
       "      <td>221315846</td>\n",
       "      <td>Team Fortress 2</td>\n",
       "      <td>6.0</td>\n",
       "      <td>4770</td>\n",
       "      <td>51</td>\n",
       "    </tr>\n",
       "    <tr>\n",
       "      <th>199965</th>\n",
       "      <td>221315846</td>\n",
       "      <td>Tom Clancy's Ghost Recon Phantoms - EU</td>\n",
       "      <td>3.0</td>\n",
       "      <td>4770</td>\n",
       "      <td>260</td>\n",
       "    </tr>\n",
       "    <tr>\n",
       "      <th>199969</th>\n",
       "      <td>128470551</td>\n",
       "      <td>The Binding of Isaac Rebirth</td>\n",
       "      <td>10.0</td>\n",
       "      <td>4771</td>\n",
       "      <td>263</td>\n",
       "    </tr>\n",
       "    <tr>\n",
       "      <th>199971</th>\n",
       "      <td>128470551</td>\n",
       "      <td>Path of Exile</td>\n",
       "      <td>1.0</td>\n",
       "      <td>4771</td>\n",
       "      <td>309</td>\n",
       "    </tr>\n",
       "  </tbody>\n",
       "</table>\n",
       "<p>15427 rows × 5 columns</p>\n",
       "</div>"
      ],
      "text/plain": [
       "          user_id                                 item_id  rating  user_idx  \\\n",
       "1       151603712              The Elder Scrolls V Skyrim    10.0         0   \n",
       "3       151603712                               Fallout 4     3.0         0   \n",
       "69       59945701                 Ultra Street Fighter IV    10.0         1   \n",
       "71       59945701                      FINAL FANTASY XIII     4.0         1   \n",
       "73       59945701              The Elder Scrolls V Skyrim     2.0         1   \n",
       "...           ...                                     ...     ...       ...   \n",
       "199961  221315846                                  Dota 2    10.0      4770   \n",
       "199963  221315846                         Team Fortress 2     6.0      4770   \n",
       "199965  221315846  Tom Clancy's Ghost Recon Phantoms - EU     3.0      4770   \n",
       "199969  128470551            The Binding of Isaac Rebirth    10.0      4771   \n",
       "199971  128470551                           Path of Exile     1.0      4771   \n",
       "\n",
       "        item_idx  \n",
       "1              0  \n",
       "3              1  \n",
       "69             2  \n",
       "71             3  \n",
       "73             0  \n",
       "...          ...  \n",
       "199961        52  \n",
       "199963        51  \n",
       "199965       260  \n",
       "199969       263  \n",
       "199971       309  \n",
       "\n",
       "[15427 rows x 5 columns]"
      ]
     },
     "execution_count": 66,
     "metadata": {},
     "output_type": "execute_result"
    }
   ],
   "source": [
    "# Aplicando o mapeamento\n",
    "ratings['user_idx'] = ratings['user_id'].map(user_id_map)\n",
    "ratings['item_idx'] = ratings['item_id'].map(item_id_map)\n",
    "print('Note as novas colunas: \"user_idx\" e \"item_idx\"')\n",
    "ratings"
   ]
  },
  {
   "cell_type": "code",
   "execution_count": 67,
   "id": "f343ea89-ca83-4f3f-9795-08a5836bbc74",
   "metadata": {},
   "outputs": [],
   "source": [
    "# Dividindo os dados em treino e teste (80% treino, 20% teste)\n",
    "# valor usar o stratify para organizar a mesma quantidade de ratings em cada subconjunto:\n",
    "ratings = ratings.dropna(subset=['rating'])\n",
    "train_data, test_data = train_test_split(ratings, test_size=0.2, random_state=42, stratify=ratings['rating'])"
   ]
  },
  {
   "cell_type": "code",
   "execution_count": 68,
   "id": "77edaf99-92ff-4e1f-aa3f-c501873f4ff2",
   "metadata": {},
   "outputs": [
    {
     "data": {
      "text/html": [
       "<div>\n",
       "<style scoped>\n",
       "    .dataframe tbody tr th:only-of-type {\n",
       "        vertical-align: middle;\n",
       "    }\n",
       "\n",
       "    .dataframe tbody tr th {\n",
       "        vertical-align: top;\n",
       "    }\n",
       "\n",
       "    .dataframe thead th {\n",
       "        text-align: right;\n",
       "    }\n",
       "</style>\n",
       "<table border=\"1\" class=\"dataframe\">\n",
       "  <thead>\n",
       "    <tr style=\"text-align: right;\">\n",
       "      <th></th>\n",
       "      <th>user_id</th>\n",
       "      <th>rating</th>\n",
       "      <th>user_idx</th>\n",
       "      <th>item_idx</th>\n",
       "    </tr>\n",
       "  </thead>\n",
       "  <tbody>\n",
       "    <tr>\n",
       "      <th>count</th>\n",
       "      <td>1.234100e+04</td>\n",
       "      <td>12341.000000</td>\n",
       "      <td>12341.000000</td>\n",
       "      <td>12341.000000</td>\n",
       "    </tr>\n",
       "    <tr>\n",
       "      <th>mean</th>\n",
       "      <td>1.126693e+08</td>\n",
       "      <td>5.271615</td>\n",
       "      <td>2349.006726</td>\n",
       "      <td>234.747832</td>\n",
       "    </tr>\n",
       "    <tr>\n",
       "      <th>std</th>\n",
       "      <td>7.213688e+07</td>\n",
       "      <td>3.672840</td>\n",
       "      <td>1391.279793</td>\n",
       "      <td>272.329439</td>\n",
       "    </tr>\n",
       "    <tr>\n",
       "      <th>min</th>\n",
       "      <td>5.250000e+03</td>\n",
       "      <td>1.000000</td>\n",
       "      <td>0.000000</td>\n",
       "      <td>0.000000</td>\n",
       "    </tr>\n",
       "    <tr>\n",
       "      <th>25%</th>\n",
       "      <td>5.625699e+07</td>\n",
       "      <td>2.000000</td>\n",
       "      <td>1133.000000</td>\n",
       "      <td>52.000000</td>\n",
       "    </tr>\n",
       "    <tr>\n",
       "      <th>50%</th>\n",
       "      <td>9.917116e+07</td>\n",
       "      <td>4.000000</td>\n",
       "      <td>2368.000000</td>\n",
       "      <td>127.000000</td>\n",
       "    </tr>\n",
       "    <tr>\n",
       "      <th>75%</th>\n",
       "      <td>1.631148e+08</td>\n",
       "      <td>10.000000</td>\n",
       "      <td>3541.000000</td>\n",
       "      <td>308.000000</td>\n",
       "    </tr>\n",
       "    <tr>\n",
       "      <th>max</th>\n",
       "      <td>3.094042e+08</td>\n",
       "      <td>10.000000</td>\n",
       "      <td>4771.000000</td>\n",
       "      <td>1385.000000</td>\n",
       "    </tr>\n",
       "  </tbody>\n",
       "</table>\n",
       "</div>"
      ],
      "text/plain": [
       "            user_id        rating      user_idx      item_idx\n",
       "count  1.234100e+04  12341.000000  12341.000000  12341.000000\n",
       "mean   1.126693e+08      5.271615   2349.006726    234.747832\n",
       "std    7.213688e+07      3.672840   1391.279793    272.329439\n",
       "min    5.250000e+03      1.000000      0.000000      0.000000\n",
       "25%    5.625699e+07      2.000000   1133.000000     52.000000\n",
       "50%    9.917116e+07      4.000000   2368.000000    127.000000\n",
       "75%    1.631148e+08     10.000000   3541.000000    308.000000\n",
       "max    3.094042e+08     10.000000   4771.000000   1385.000000"
      ]
     },
     "execution_count": 68,
     "metadata": {},
     "output_type": "execute_result"
    }
   ],
   "source": [
    "train_data.describe()"
   ]
  },
  {
   "cell_type": "code",
   "execution_count": 69,
   "id": "0c30245f-0262-4691-a0c1-62e73d8ae504",
   "metadata": {},
   "outputs": [
    {
     "data": {
      "text/html": [
       "<div>\n",
       "<style scoped>\n",
       "    .dataframe tbody tr th:only-of-type {\n",
       "        vertical-align: middle;\n",
       "    }\n",
       "\n",
       "    .dataframe tbody tr th {\n",
       "        vertical-align: top;\n",
       "    }\n",
       "\n",
       "    .dataframe thead th {\n",
       "        text-align: right;\n",
       "    }\n",
       "</style>\n",
       "<table border=\"1\" class=\"dataframe\">\n",
       "  <thead>\n",
       "    <tr style=\"text-align: right;\">\n",
       "      <th></th>\n",
       "      <th>user_id</th>\n",
       "      <th>rating</th>\n",
       "      <th>user_idx</th>\n",
       "      <th>item_idx</th>\n",
       "    </tr>\n",
       "  </thead>\n",
       "  <tbody>\n",
       "    <tr>\n",
       "      <th>count</th>\n",
       "      <td>3.086000e+03</td>\n",
       "      <td>3086.000000</td>\n",
       "      <td>3086.000000</td>\n",
       "      <td>3086.000000</td>\n",
       "    </tr>\n",
       "    <tr>\n",
       "      <th>mean</th>\n",
       "      <td>1.116106e+08</td>\n",
       "      <td>5.271873</td>\n",
       "      <td>2353.959170</td>\n",
       "      <td>235.654245</td>\n",
       "    </tr>\n",
       "    <tr>\n",
       "      <th>std</th>\n",
       "      <td>7.213928e+07</td>\n",
       "      <td>3.673061</td>\n",
       "      <td>1379.604408</td>\n",
       "      <td>275.573276</td>\n",
       "    </tr>\n",
       "    <tr>\n",
       "      <th>min</th>\n",
       "      <td>8.654000e+04</td>\n",
       "      <td>1.000000</td>\n",
       "      <td>0.000000</td>\n",
       "      <td>0.000000</td>\n",
       "    </tr>\n",
       "    <tr>\n",
       "      <th>25%</th>\n",
       "      <td>5.458565e+07</td>\n",
       "      <td>2.000000</td>\n",
       "      <td>1171.000000</td>\n",
       "      <td>52.000000</td>\n",
       "    </tr>\n",
       "    <tr>\n",
       "      <th>50%</th>\n",
       "      <td>9.909406e+07</td>\n",
       "      <td>4.000000</td>\n",
       "      <td>2370.500000</td>\n",
       "      <td>127.000000</td>\n",
       "    </tr>\n",
       "    <tr>\n",
       "      <th>75%</th>\n",
       "      <td>1.632514e+08</td>\n",
       "      <td>10.000000</td>\n",
       "      <td>3535.000000</td>\n",
       "      <td>307.750000</td>\n",
       "    </tr>\n",
       "    <tr>\n",
       "      <th>max</th>\n",
       "      <td>3.094042e+08</td>\n",
       "      <td>10.000000</td>\n",
       "      <td>4767.000000</td>\n",
       "      <td>1381.000000</td>\n",
       "    </tr>\n",
       "  </tbody>\n",
       "</table>\n",
       "</div>"
      ],
      "text/plain": [
       "            user_id       rating     user_idx     item_idx\n",
       "count  3.086000e+03  3086.000000  3086.000000  3086.000000\n",
       "mean   1.116106e+08     5.271873  2353.959170   235.654245\n",
       "std    7.213928e+07     3.673061  1379.604408   275.573276\n",
       "min    8.654000e+04     1.000000     0.000000     0.000000\n",
       "25%    5.458565e+07     2.000000  1171.000000    52.000000\n",
       "50%    9.909406e+07     4.000000  2370.500000   127.000000\n",
       "75%    1.632514e+08    10.000000  3535.000000   307.750000\n",
       "max    3.094042e+08    10.000000  4767.000000  1381.000000"
      ]
     },
     "execution_count": 69,
     "metadata": {},
     "output_type": "execute_result"
    }
   ],
   "source": [
    "test_data.describe()"
   ]
  },
  {
   "cell_type": "code",
   "execution_count": 70,
   "id": "89ac3403-6b16-4fe8-b212-21aaafcb4d3c",
   "metadata": {},
   "outputs": [],
   "source": [
    "# Salvando os dados processados para uso posterior\n",
    "train_data.to_csv('train_data.csv', index=False)\n",
    "test_data.to_csv('test_data.csv', index=False)\n",
    "# Salvando os mapeamentos\n",
    "np.save('user_id_map.npy', user_id_map)\n",
    "np.save('item_id_map.npy', item_id_map)"
   ]
  },
  {
   "cell_type": "markdown",
   "id": "9e13de18-3ebe-4dc9-823b-386a17654819",
   "metadata": {},
   "source": [
    "## Rede Neural"
   ]
  },
  {
   "cell_type": "code",
   "execution_count": 29,
   "id": "04cac9c5-2b91-48a2-82a7-0e2d7594192d",
   "metadata": {},
   "outputs": [],
   "source": [
    "import torch\n",
    "import torch.nn as nn\n",
    "import torch.optim as optim\n",
    "from torch.utils.data import Dataset, DataLoader\n",
    "import pandas as pd\n",
    "import numpy as np\n",
    "import matplotlib.pyplot as plt\n",
    "import time"
   ]
  },
  {
   "cell_type": "code",
   "execution_count": 71,
   "id": "09658221-f1cd-4259-a3ed-f37e3f29193c",
   "metadata": {},
   "outputs": [
    {
     "name": "stdout",
     "output_type": "stream",
     "text": [
      "Usando dispositivo: cuda\n"
     ]
    }
   ],
   "source": [
    "# Verificando se GPU está disponível\n",
    "device = torch.device(\"cuda\" if torch.cuda.is_available() else \"cpu\")\n",
    "print(f\"Usando dispositivo: {device}\")"
   ]
  },
  {
   "cell_type": "code",
   "execution_count": 72,
   "id": "07aafb14-c619-4de2-9c47-850f27d02b10",
   "metadata": {},
   "outputs": [],
   "source": [
    "# Carregando os dados processados\n",
    "train_data = pd.read_csv('train_data.csv')\n",
    "test_data = pd.read_csv('test_data.csv')\n",
    "\n",
    "# Carregando os mapeamentos\n",
    "user_id_map = np.load('user_id_map.npy', allow_pickle=True).item()\n",
    "item_id_map = np.load('item_id_map.npy', allow_pickle=True).item()"
   ]
  },
  {
   "cell_type": "code",
   "execution_count": 73,
   "id": "d5d1b46c-2872-420c-be31-4a65f2bdd8b4",
   "metadata": {},
   "outputs": [
    {
     "name": "stdout",
     "output_type": "stream",
     "text": [
      "Número de usuários: 4772\n",
      "Número de itens: 1386\n"
     ]
    }
   ],
   "source": [
    "# Obtendo o número de usuários e itens\n",
    "num_users = len(user_id_map)\n",
    "num_items = len(item_id_map)\n",
    "print(f\"Número de usuários: {num_users}\")\n",
    "print(f\"Número de itens: {num_items}\")"
   ]
  },
  {
   "cell_type": "code",
   "execution_count": 74,
   "id": "d02578ef-a968-488e-950f-9024a1ec505f",
   "metadata": {},
   "outputs": [],
   "source": [
    "# Definindo o dataset personalizado. Porém, mais rápido:\n",
    "class MyDataset(Dataset):\n",
    "    def __init__(self, ratings_df):\n",
    "        self.user = torch.tensor(ratings_df['user_idx'].to_numpy(), dtype=torch.long)\n",
    "        self.item = torch.tensor(ratings_df['item_idx'].to_numpy(), dtype=torch.long)\n",
    "        self.rating = torch.tensor(ratings_df['rating'].to_numpy(), dtype=torch.float)\n",
    "        # if self.rating.max().item() == 5:\n",
    "            # self.rating -= 1\n",
    "        \n",
    "    def __len__(self):\n",
    "        return len(self.user)\n",
    "\n",
    "    def __getitem__(self, idx):        \n",
    "        return {\n",
    "            'user': self.user[idx],\n",
    "            'item': self.item[idx],\n",
    "            'rating': self.rating[idx]\n",
    "        }\n",
    "\n",
    "    def device(self, device):\n",
    "        self.user = self.user.to(device)\n",
    "        self.item = self.item.to(device)\n",
    "        self.rating = self.rating.to(device)\n",
    "        \n",
    "    def cuda(self):\n",
    "        self.device('cuda')\n",
    "\n",
    "    def cpu(self):\n",
    "        self.device('cpu')"
   ]
  },
  {
   "cell_type": "code",
   "execution_count": 75,
   "id": "2e4d633f-d7cc-488b-8acf-2fa2d11baf83",
   "metadata": {},
   "outputs": [],
   "source": [
    "# Criando os datasets\n",
    "train_dataset = MyDataset(train_data)\n",
    "test_dataset = MyDataset(test_data)"
   ]
  },
  {
   "cell_type": "code",
   "execution_count": 76,
   "id": "c657d48c-080c-4d26-8757-e9f25108b22b",
   "metadata": {},
   "outputs": [
    {
     "name": "stdout",
     "output_type": "stream",
     "text": [
      "{'user': tensor(2616, device='cuda:0'), 'item': tensor(120, device='cuda:0'), 'rating': tensor(2., device='cuda:0')}\n",
      "{'user': tensor(2616), 'item': tensor(120), 'rating': tensor(2.)}\n"
     ]
    }
   ],
   "source": [
    "# Movendo entre as memórias da CPU e da GPU\n",
    "if str(device) == 'cuda':\n",
    "    # só roda se essa máquina tem CUDA\n",
    "    train_dataset.cuda()\n",
    "    print(train_dataset[0])\n",
    "train_dataset.cpu()\n",
    "print(train_dataset[0])"
   ]
  },
  {
   "cell_type": "code",
   "execution_count": 90,
   "id": "4fb88681-e1af-48e1-a921-d6a9e93f34e7",
   "metadata": {},
   "outputs": [],
   "source": [
    "# Criando o data loader\n",
    "batch_size = 32\n",
    "train_dataset.device(device)\n",
    "test_dataset.device(device)\n",
    "train_loader = DataLoader(train_dataset, batch_size=batch_size, shuffle=True)\n",
    "test_loader = DataLoader(test_dataset, batch_size=batch_size, shuffle=False)"
   ]
  },
  {
   "cell_type": "code",
   "execution_count": 91,
   "id": "a12a4b96-3bff-46c7-9009-d5fa57c6611f",
   "metadata": {},
   "outputs": [
    {
     "name": "stdout",
     "output_type": "stream",
     "text": [
      "user: tensor(1338, device='cuda:0')\n",
      "video: tensor(787, device='cuda:0')\n",
      "rating: tensor(3., device='cuda:0')\n"
     ]
    }
   ],
   "source": [
    "for d in train_loader:\n",
    "    print('user:', d['user'][0])\n",
    "    print('video:', d['item'][0])\n",
    "    print('rating:', d['rating'][0])\n",
    "    break"
   ]
  },
  {
   "cell_type": "code",
   "execution_count": 92,
   "id": "9ba4f118-28a3-4ef2-82d3-77cb241a71b2",
   "metadata": {},
   "outputs": [],
   "source": [
    "# Definindo o modelo Neural Collaborative Filtering (NCF)\n",
    "class NCF(nn.Module):\n",
    "    \"\"\"\n",
    "    Neural Collaborative Filtering (NCF)\n",
    "    \n",
    "    Implementa um modelo híbrido que combina:\n",
    "    1. Filtragem colaborativa baseada em matriz de fatores (MF)\n",
    "    2. Redes neurais multicamadas (MLP)\n",
    "    \"\"\"\n",
    "    def __init__(self, num_users, num_items, embedding_size=50, mlp_layers=[100, 50], dropout=0.2):\n",
    "        super(NCF, self).__init__()\n",
    "        \n",
    "        # Camada de embedding para usuários e itens (parte MF (Matrix Fatorization)\n",
    "        self.user_embedding_mf = nn.Embedding(num_users, embedding_size)\n",
    "        self.item_embedding_mf = nn.Embedding(num_items, embedding_size)\n",
    "        \n",
    "        # Camada de embedding para usuários e itens (parte MLP (Multi-Layer Perceptron))\n",
    "        self.user_embedding_mlp = nn.Embedding(num_users, embedding_size)\n",
    "        self.item_embedding_mlp = nn.Embedding(num_items, embedding_size)\n",
    "        \n",
    "        # Camadas MLP\n",
    "        self.mlp_layers = nn.ModuleList()\n",
    "        input_size = 2 * embedding_size  # Concatenação dos embeddings de usuário e item\n",
    "        \n",
    "        # Construindo as camadas MLP\n",
    "        for i, layer_size in enumerate(mlp_layers):\n",
    "            if i == 0:\n",
    "                self.mlp_layers.append(nn.Linear(input_size, layer_size))\n",
    "            else:\n",
    "                self.mlp_layers.append(nn.Linear(mlp_layers[i-1], layer_size))\n",
    "            self.mlp_layers.append(nn.ReLU())\n",
    "            self.mlp_layers.append(nn.Dropout(dropout))\n",
    "        \n",
    "        # Camada de saída que combina MF e MLP\n",
    "        self.output_layer = nn.Linear(embedding_size + mlp_layers[-1], 1)\n",
    "        \n",
    "        # Inicialização dos pesos\n",
    "        self._init_weights()\n",
    "    \n",
    "    def _init_weights(self):\n",
    "        \"\"\"Inicializa os pesos do modelo usando a distribuição normal.\"\"\"\n",
    "        for m in self.modules():\n",
    "            if isinstance(m, nn.Linear):\n",
    "                nn.init.normal_(m.weight, mean=0.0, std=0.01)\n",
    "                if m.bias is not None:\n",
    "                    nn.init.zeros_(m.bias)\n",
    "            elif isinstance(m, nn.Embedding):\n",
    "                nn.init.normal_(m.weight, mean=0.0, std=0.01)\n",
    "    \n",
    "    def forward(self, user_indices, item_indices):\n",
    "        # Embeddings para parte MF\n",
    "        user_embedding_mf = self.user_embedding_mf(user_indices)\n",
    "        item_embedding_mf = self.item_embedding_mf(item_indices)\n",
    "        mf_vector = user_embedding_mf * item_embedding_mf  # Produto elemento a elemento\n",
    "        \n",
    "        # Embeddings para parte MLP\n",
    "        user_embedding_mlp = self.user_embedding_mlp(user_indices)\n",
    "        item_embedding_mlp = self.item_embedding_mlp(item_indices)\n",
    "        mlp_vector = torch.cat([user_embedding_mlp, item_embedding_mlp], dim=-1)\n",
    "        \n",
    "        # Passando pela rede MLP\n",
    "        for layer in self.mlp_layers:\n",
    "            mlp_vector = layer(mlp_vector)\n",
    "        \n",
    "        # Concatenando os resultados de MF e MLP\n",
    "        vector = torch.cat([mf_vector, mlp_vector], dim=-1)\n",
    "        \n",
    "        # Camada de saída\n",
    "        rating = self.output_layer(vector)\n",
    "        \n",
    "        return rating.squeeze()"
   ]
  },
  {
   "cell_type": "code",
   "execution_count": 93,
   "id": "b3570778-2164-4250-8120-a54a6f419a59",
   "metadata": {},
   "outputs": [],
   "source": [
    "from torch.nn import functional as F\n",
    "# Função para treinar o modelo por uma época\n",
    "def train_model(model, train_loader, criterion, optimizer, device, epoch):\n",
    "    model.train()\n",
    "    running_loss = 0.0\n",
    "    start_time = time.time()\n",
    "    \n",
    "    for batch in train_loader:\n",
    "        user = batch['user'].to(device)\n",
    "        item = batch['item'].to(device)\n",
    "        rating = batch['rating'].to(device)\n",
    "        # rating = F.one_hot(rating, num_classes=5).type(torch.float)\n",
    "        \n",
    "        # Zerando os gradientes\n",
    "        optimizer.zero_grad()\n",
    "        \n",
    "        # Forward pass\n",
    "        outputs = model(user, item)\n",
    "        loss = criterion(outputs, rating)\n",
    "        \n",
    "        # Backward pass e otimização\n",
    "        loss.backward()\n",
    "        optimizer.step()\n",
    "        \n",
    "        running_loss += loss.item() * user.size(0)\n",
    "    \n",
    "    epoch_loss = running_loss / len(train_loader.dataset)\n",
    "    epoch_time = time.time() - start_time\n",
    "    \n",
    "    print(f\"Época {epoch+1} - Perda Treino: {epoch_loss:.4f} - Tempo: {epoch_time:.2f}s\")\n",
    "    \n",
    "    return epoch_loss"
   ]
  },
  {
   "cell_type": "code",
   "execution_count": 112,
   "id": "69b29fa8-ba44-4c7c-9b0f-4858452812b1",
   "metadata": {},
   "outputs": [],
   "source": [
    "# Função para avaliar o modelo\n",
    "def evaluate_model(model, test_loader, criterion, device):\n",
    "    model.eval()\n",
    "    running_loss = 0.0\n",
    "    pred, y = [],[]\n",
    "    with torch.no_grad():\n",
    "        for batch in test_loader:\n",
    "            user = batch['user'] .to(device)\n",
    "            item = batch['item'] .to(device)\n",
    "            rating = batch['rating'] .to(device)\n",
    "            # rating = F.one_hot(rating, num_classes=5).type(torch.float)\n",
    "            \n",
    "            outputs = model(user, item)\n",
    "            loss = criterion(outputs, rating)\n",
    "            pred.append(outputs.cpu().detach().tolist())\n",
    "            y.append(rating.cpu().detach().tolist())\n",
    "            running_loss += loss.item() * user.size(0)\n",
    "    \n",
    "    test_loss = running_loss / len(test_loader.dataset)\n",
    "    print(f\"Perda Teste: {test_loss:.4f}\")\n",
    "    \n",
    "    return test_loss, pred, y"
   ]
  },
  {
   "cell_type": "code",
   "execution_count": 113,
   "id": "2ce5802f-a7d2-4b5e-8a9e-3a367c577d48",
   "metadata": {},
   "outputs": [
    {
     "name": "stdout",
     "output_type": "stream",
     "text": [
      "Perda Teste: 12.6940\n"
     ]
    }
   ],
   "source": [
    "_, pred, y = evaluate_model(model, test_loader, criterion, device)"
   ]
  },
  {
   "cell_type": "code",
   "execution_count": 120,
   "id": "d5d408a0-1ad1-4243-857f-272d0741397d",
   "metadata": {},
   "outputs": [],
   "source": [
    "pred_ = np.concatenate(pred)\n",
    "y_ = np.concatenate(y)"
   ]
  },
  {
   "cell_type": "code",
   "execution_count": 130,
   "id": "f199d251-1881-4644-b622-6fffc1ddf906",
   "metadata": {},
   "outputs": [
    {
     "data": {
      "text/plain": [
       "np.int64(1945)"
      ]
     },
     "execution_count": 130,
     "metadata": {},
     "output_type": "execute_result"
    }
   ],
   "source": [
    "# verifica erros entr\n",
    "np.sum(np.abs(pred_.round() - y_) < 4)"
   ]
  },
  {
   "cell_type": "code",
   "execution_count": 97,
   "id": "25964e0b-5616-4e0b-8f46-b15d2e669cd9",
   "metadata": {
    "scrolled": true
   },
   "outputs": [
    {
     "name": "stdout",
     "output_type": "stream",
     "text": [
      "Iniciando treinamento...\n",
      "Época 1 - Perda Treino: 41.2575 - Tempo: 0.54s\n",
      "Perda Teste: 41.2365\n",
      "Época 2 - Perda Treino: 41.2092 - Tempo: 0.53s\n",
      "Perda Teste: 41.1792\n",
      "Época 3 - Perda Treino: 41.1251 - Tempo: 0.51s\n",
      "Perda Teste: 41.0486\n",
      "Época 4 - Perda Treino: 40.8764 - Tempo: 0.51s\n",
      "Perda Teste: 40.6241\n",
      "Época 5 - Perda Treino: 40.0943 - Tempo: 0.52s\n",
      "Perda Teste: 39.3631\n",
      "Época 6 - Perda Treino: 38.0625 - Tempo: 0.52s\n",
      "Perda Teste: 36.4543\n",
      "Época 7 - Perda Treino: 34.0180 - Tempo: 0.51s\n",
      "Perda Teste: 31.3025\n",
      "Época 8 - Perda Treino: 27.9038 - Tempo: 0.53s\n",
      "Perda Teste: 24.5058\n",
      "Época 9 - Perda Treino: 21.1235 - Tempo: 0.51s\n",
      "Perda Teste: 18.2186\n",
      "Época 10 - Perda Treino: 16.3760 - Tempo: 0.53s\n",
      "Perda Teste: 14.7193\n",
      "Época 11 - Perda Treino: 14.6695 - Tempo: 0.51s\n",
      "Perda Teste: 13.6203\n",
      "Época 12 - Perda Treino: 14.0288 - Tempo: 0.53s\n",
      "Perda Teste: 13.2924\n",
      "Época 13 - Perda Treino: 13.7482 - Tempo: 0.52s\n",
      "Perda Teste: 13.1436\n",
      "Época 14 - Perda Treino: 13.6187 - Tempo: 0.51s\n",
      "Perda Teste: 13.0340\n",
      "Época 15 - Perda Treino: 13.3951 - Tempo: 0.51s\n",
      "Perda Teste: 12.9460\n",
      "Época 16 - Perda Treino: 13.2708 - Tempo: 0.51s\n",
      "Perda Teste: 12.8643\n",
      "Época 17 - Perda Treino: 13.2877 - Tempo: 0.51s\n",
      "Perda Teste: 12.8070\n",
      "Época 18 - Perda Treino: 13.0391 - Tempo: 0.54s\n",
      "Perda Teste: 12.7544\n",
      "Época 19 - Perda Treino: 12.9906 - Tempo: 0.54s\n",
      "Perda Teste: 12.7176\n",
      "Época 20 - Perda Treino: 12.8742 - Tempo: 0.56s\n",
      "Perda Teste: 12.6877\n",
      "Época 21 - Perda Treino: 12.7503 - Tempo: 0.52s\n",
      "Perda Teste: 12.6446\n",
      "Época 22 - Perda Treino: 12.4980 - Tempo: 0.56s\n",
      "Perda Teste: 12.6359\n",
      "Época 23 - Perda Treino: 12.5662 - Tempo: 0.50s\n",
      "Perda Teste: 12.5973\n",
      "Época 24 - Perda Treino: 12.3662 - Tempo: 0.56s\n",
      "Perda Teste: 12.6110\n",
      "Época 25 - Perda Treino: 12.3706 - Tempo: 0.69s\n",
      "Perda Teste: 12.5919\n",
      "Época 26 - Perda Treino: 12.2494 - Tempo: 0.55s\n",
      "Perda Teste: 12.5795\n",
      "Época 27 - Perda Treino: 11.9217 - Tempo: 0.72s\n",
      "Perda Teste: 12.5895\n",
      "Época 28 - Perda Treino: 11.9510 - Tempo: 0.66s\n",
      "Perda Teste: 12.6113\n",
      "Época 29 - Perda Treino: 11.7860 - Tempo: 0.52s\n",
      "Perda Teste: 12.6158\n",
      "Época 30 - Perda Treino: 11.6713 - Tempo: 0.52s\n",
      "Perda Teste: 12.6292\n",
      "Época 31 - Perda Treino: 11.4671 - Tempo: 0.48s\n",
      "Perda Teste: 12.6463\n",
      "Época 32 - Perda Treino: 11.3576 - Tempo: 0.48s\n",
      "Perda Teste: 12.6940\n",
      "Modelo salvo como 'modelo_ncf.pth'\n"
     ]
    }
   ],
   "source": [
    "# Criando o modelo\n",
    "embedding_size = 64\n",
    "mlp_layers = [128, 64, 32, 16]\n",
    "model = NCF(num_users, num_items, embedding_size, mlp_layers)\n",
    "model = model.to(device)\n",
    "\n",
    "# Definindo a função de perda e o otimizador\n",
    "criterion = nn.MSELoss()\n",
    "# criterion = nn.CrossEntropyLoss()\n",
    "optimizer = optim.Adam(model.parameters(), lr=0.00001, weight_decay=1e-5)\n",
    "\n",
    "# Treinando o modelo\n",
    "num_epochs = 32\n",
    "train_losses = []\n",
    "test_losses = []\n",
    "\n",
    "print(\"Iniciando treinamento...\")\n",
    "for epoch in range(num_epochs):\n",
    "    train_loss = train_model(model, train_loader, criterion, optimizer, device, epoch)\n",
    "    test_loss = evaluate_model(model, test_loader, criterion, device)\n",
    "    \n",
    "    train_losses.append(train_loss)\n",
    "    test_losses.append(test_loss)\n",
    "\n",
    "# Salvando o modelo treinado\n",
    "torch.save(model.state_dict(), 'modelo_ncf.pth')\n",
    "print(\"Modelo salvo como 'modelo_ncf.pth'\")"
   ]
  },
  {
   "cell_type": "code",
   "execution_count": 98,
   "id": "db699cb0-5201-4f0e-8691-3d828ccf74e8",
   "metadata": {},
   "outputs": [
    {
     "data": {
      "text/plain": [
       "(<matplotlib.legend.Legend at 0x7fb4f6a1fa10>, None)"
      ]
     },
     "execution_count": 98,
     "metadata": {},
     "output_type": "execute_result"
    },
    {
     "data": {
      "image/png": "[encoded data removed]",
      "text/plain": [
       "<Figure size 1000x600 with 1 Axes>"
      ]
     },
     "metadata": {},
     "output_type": "display_data"
    }
   ],
   "source": [
    "plt.figure(figsize=(10, 6))\n",
    "plt.plot(range(1, num_epochs+1), train_losses, label='Perda Treino')\n",
    "plt.plot(range(1, num_epochs+1), test_losses, label='Perda Teste')\n",
    "set_title_and_axes('Curvas de Perda do Modelo NCF', 'Época', 'Perda (MSE)')\n",
    "plt.legend(), plt.grid(True)"
   ]
  },
  {
   "cell_type": "code",
   "execution_count": null,
   "id": "cd42630e-db56-4272-a903-1ba0c982e1d0",
   "metadata": {},
   "outputs": [],
   "source": [
    "# Função para recomendar filmes para um usuário\n",
    "def recommend_movies(model, user_id, ratings_df, user_id_map, item_id_map, movies_df, top_n=10):\n",
    "    model.eval()\n",
    "    \n",
    "    # Obtendo o índice do usuário\n",
    "    user_idx = user_id_map[user_id]\n",
    "    \n",
    "    # Filmes já avaliados pelo usuário\n",
    "    user_rated_items = set(ratings_df[ratings_df['user_id'] == user_id]['item_id'].values)\n",
    "    \n",
    "    # Filmes não avaliados pelo usuário\n",
    "    all_items = set(ratings_df['item_id'].unique())\n",
    "    unrated_items = list(all_items - user_rated_items)\n",
    "    \n",
    "    # Convertendo para índices\n",
    "    unrated_items_idx = [item_id_map[item] for item in unrated_items]\n",
    "    \n",
    "    # Preparando os dados para predição\n",
    "    user_tensor = torch.tensor([user_idx] * len(unrated_items_idx), dtype=torch.long).to(device)\n",
    "    item_tensor = torch.tensor(unrated_items_idx, dtype=torch.long).to(device)\n",
    "    \n",
    "    # Fazendo a predição\n",
    "    with torch.no_grad():\n",
    "        predictions = model(user_tensor, item_tensor).argmax(1)+1\n",
    "    \n",
    "    # Obtendo os top-n filmes recomendados\n",
    "    _, indices = torch.topk(predictions, top_n)\n",
    "    recommended_item_idx = [unrated_items_idx[idx] for idx in indices.cpu().numpy()]\n",
    "    \n",
    "    # Convertendo de volta para os IDs originais\n",
    "    reverse_item_map = {v: k for k, v in item_id_map.items()}\n",
    "    recommended_items = [reverse_item_map[idx] for idx in recommended_item_idx]\n",
    "    \n",
    "    # Obtendo os títulos dos filmes\n",
    "    recommended_titles = []\n",
    "    for item_id in recommended_items:\n",
    "        title = movies_df[movies_df['movie_id'] == item_id]['title'].values[0]\n",
    "        recommended_titles.append(title)\n",
    "    \n",
    "    return recommended_items, recommended_titles\n",
    "\n",
    "# Carregando informações dos filmes para exibir os títulos\n",
    "movie_columns = ['movie_id', 'title', 'release_date', 'video_release_date', 'imdb_url']\n",
    "genre_columns = ['unknown', 'Action', 'Adventure', 'Animation', 'Children', \n",
    "                 'Comedy', 'Crime', 'Documentary', 'Drama', 'Fantasy', \n",
    "                 'Film-Noir', 'Horror', 'Musical', 'Mystery', 'Romance', \n",
    "                 'Sci-Fi', 'Thriller', 'War', 'Western']\n",
    "all_columns = movie_columns + genre_columns\n",
    "\n",
    "movies = pd.read_csv(path.join(DATA_PATH, 'u.item'), sep='|', names=all_columns, encoding='ISO-8859-1')\n",
    "\n",
    "# Exemplo de recomendação para alguns usuários\n",
    "test_users = [1, 100, 300, 500]\n",
    "for user_id in test_users:\n",
    "    _, recommended_titles = recommend_movies(model, user_id, ratings, user_id_map, item_id_map, movies, top_n=5)\n",
    "    \n",
    "    print(f\"\\nRecomendações para o usuário {user_id}:\")\n",
    "    for i, title in enumerate(recommended_titles):\n",
    "        print(f\"{i+1}. {title}\")"
   ]
  },
  {
   "cell_type": "markdown",
   "id": "fb7c196c-a153-4e9b-b77c-58b47a968e09",
   "metadata": {},
   "source": [
    "## Avaliação do sistema"
   ]
  },
  {
   "cell_type": "code",
   "execution_count": null,
   "id": "ab7e1889-4573-4000-9047-f4b409f591b0",
   "metadata": {},
   "outputs": [],
   "source": [
    "import numpy as np\n",
    "import pandas as pd\n",
    "import matplotlib.pyplot as plt\n",
    "import seaborn as sns\n",
    "import torch\n",
    "from sklearn.metrics import mean_squared_error, mean_absolute_error\n",
    "from math import sqrt\n",
    "\n",
    "# Fazendo previsões no conjunto de teste\n",
    "user_indices = torch.tensor(test_data['user_idx'].values, dtype=torch.long).to(device)\n",
    "item_indices = torch.tensor(test_data['item_idx'].values, dtype=torch.long).to(device)\n",
    "actual_ratings = test_data['rating'].values\n",
    "\n",
    "with torch.no_grad():\n",
    "    predicted_ratings = model(user_indices, item_indices).cpu().argmax(1).numpy()+1\n",
    "\n",
    "# Calculando métricas de erro\n",
    "rmse = sqrt(mean_squared_error(actual_ratings, predicted_ratings))\n",
    "mae = mean_absolute_error(actual_ratings, predicted_ratings)\n",
    "\n",
    "print(f\"RMSE: {rmse:.4f}\")\n",
    "print(f\"MAE: {mae:.4f}\")\n",
    "\n",
    "# Análise da distribuição de erros\n",
    "errors = np.abs(actual_ratings - predicted_ratings)"
   ]
  },
  {
   "cell_type": "code",
   "execution_count": null,
   "id": "5c4f6634-ebdd-48b8-a47a-061c07158f3c",
   "metadata": {},
   "outputs": [],
   "source": [
    "plt.figure(figsize=(10, 6))\n",
    "sns.histplot(errors, bins=5, kde=True)\n",
    "set_title_and_axes('Distribuição dos Erros de Previsão',\n",
    "                   'Erro (Avaliação Real - Avaliação Prevista)','Frequência')"
   ]
  },
  {
   "cell_type": "code",
   "execution_count": null,
   "id": "74588d56-b985-41e3-9b44-7ca93d2108f7",
   "metadata": {},
   "outputs": [],
   "source": [
    "# Comparação entre avaliações reais e previstas\n",
    "plt.figure(figsize=(10, 8))\n",
    "noise = np.random.randn(predicted_ratings.shape[0])/10 #-0.1, ..., 0.1\n",
    "#plt.scatter(actual_ratings, predicted_ratings+noise, alpha=0.1)\n",
    "sns.catplot(x=actual_ratings, y=predicted_ratings, kind=\"violin\")\n",
    "plt.plot([0, 5], [1, 6], 'r--')\n",
    "#plt.xlim(0.5, 5.5), plt.ylim(0.5, 5.5)\n",
    "plt.xlim(0.2, 5.), plt.ylim(0.2, 5.5)\n",
    "set_title_and_axes('Avaliações Reais vs. Previstas',\n",
    "                   'Avaliação Real', 'Avaliação Prevista')\n",
    "print((actual_ratings == predicted_ratings).sum()/len(actual_ratings))\n",
    "print((actual_ratings-1 == predicted_ratings).sum()/len(actual_ratings))\n",
    "print((actual_ratings+1 == predicted_ratings).sum()/len(actual_ratings))"
   ]
  },
  {
   "cell_type": "markdown",
   "id": "1c623914-95a2-48d6-a9dd-60717dbc5e7a",
   "metadata": {},
   "source": [
    "Erro médio quadrático:\\\n",
    "$\\frac{\\sum_{i=1}^{n}{(y_i - \\hat{y}_i)^2}}{n}$"
   ]
  },
  {
   "cell_type": "code",
   "execution_count": null,
   "id": "5c96ea2d-482f-4588-8c69-4d312b0632ad",
   "metadata": {},
   "outputs": [],
   "source": [
    "np.sum((actual_ratings - predicted_ratings)**2)/len(actual_ratings)"
   ]
  },
  {
   "cell_type": "code",
   "execution_count": null,
   "id": "81c6f339-956b-4b30-bf4f-0d50a0630adf",
   "metadata": {},
   "outputs": [],
   "source": [
    "# Boxplot das previsões agrupadas por avaliação real\n",
    "df_results = pd.DataFrame({\n",
    "    'actual': actual_ratings,\n",
    "    'predicted': predicted_ratings\n",
    "})\n",
    "\n",
    "plt.figure(figsize=(12, 8))\n",
    "sns.boxplot(x='actual', y='predicted', data=df_results)\n",
    "set_title_and_axes('Boxplot das Previsões por Avaliação Real',\n",
    "                   'Avaliação Real', 'Avaliação Prevista')"
   ]
  },
  {
   "cell_type": "code",
   "execution_count": null,
   "id": "a1999f7b-0ac1-4d8d-a26a-95f2e2654f26",
   "metadata": {},
   "outputs": [],
   "source": [
    "# Calculando precisão para diferentes limiares\n",
    "thresholds = [3.0, 3.5, 4.0, 4.5]\n",
    "precision_values = []\n",
    "\n",
    "for threshold in thresholds:\n",
    "    # Itens recomendados (previsão >= threshold)\n",
    "    recommended = predicted_ratings >= threshold\n",
    "    # Itens relevantes (avaliação real >= threshold)\n",
    "    relevant = actual_ratings >= threshold\n",
    "    # Itens recomendados que são relevantes\n",
    "    true_positives = np.logical_and(recommended, relevant).sum()\n",
    "    # Precisão: proporção de recomendações corretas\n",
    "    precision = true_positives / recommended.sum() if recommended.sum() > 0 else 0\n",
    "    precision_values.append(precision)\n",
    "    print(f\"Precisão para limiar {threshold}: {precision:.4f}\")"
   ]
  },
  {
   "cell_type": "code",
   "execution_count": null,
   "id": "0b2d0916-1787-44c2-82c4-fa4fde5748e8",
   "metadata": {},
   "outputs": [],
   "source": []
  }
 ],
 "metadata": {
  "kernelspec": {
   "display_name": "Python 3 (ipykernel)",
   "language": "python",
   "name": "python3"
  },
  "language_info": {
   "codemirror_mode": {
    "name": "ipython",
    "version": 3
   },
   "file_extension": ".py",
   "mimetype": "text/x-python",
   "name": "python",
   "nbconvert_exporter": "python",
   "pygments_lexer": "ipython3",
   "version": "3.12.0"
  }
 },
 "nbformat": 4,
 "nbformat_minor": 5
}
