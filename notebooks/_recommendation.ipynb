{
 "cells": [
  {
   "cell_type": "code",
   "execution_count": null,
   "id": "b76e9dc6-7bd5-4904-9411-233b95d80e94",
   "metadata": {},
   "outputs": [],
   "source": [
    "import pandas as pd\n",
    "import numpy as np\n",
    "import matplotlib.pyplot as plt\n",
    "import seaborn as sns\n",
    "\n",
    "plt.style.use('seaborn-v0_8-darkgrid')\n",
    "sns.set(font_scale=1.2)\n",
    "\n",
    "used_columns = ['AppID', 'Name', 'Release date', 'Estimated owners', 'Peak CCU',\n",
    "       'Required age', 'Price', 'DiscountDLC count', 'About the game',\n",
    "       'Supported languages', 'Full audio languages', 'Reviews',\n",
    "       'Header image', 'Website', 'Support url', 'Support email', 'Windows',\n",
    "       'Mac', 'Linux', 'Metacritic score', 'Metacritic url', 'User score',\n",
    "       'Positive', 'Negative', 'Score rank', 'Achievements', 'Recommendations',\n",
    "       'Notes', 'Average playtime forever', 'Average playtime two weeks',\n",
    "       'Median playtime forever', 'Median playtime two weeks', 'Developers',\n",
    "       'Publishers', 'Categories', 'Genres', 'Tags', 'Screenshots', 'Movies']\n",
    "\n",
    "games = pd.read_csv('../datasets/games.csv', header=0, sep=',', names=used_columns)\n"
   ]
  }
 ],
 "metadata": {
  "kernelspec": {
   "display_name": "Python 3 (ipykernel)",
   "language": "python",
   "name": "python3"
  },
  "language_info": {
   "codemirror_mode": {
    "name": "ipython",
    "version": 3
   },
   "file_extension": ".py",
   "mimetype": "text/x-python",
   "name": "python",
   "nbconvert_exporter": "python",
   "pygments_lexer": "ipython3",
   "version": "3.12.0"
  }
 },
 "nbformat": 4,
 "nbformat_minor": 5
}
