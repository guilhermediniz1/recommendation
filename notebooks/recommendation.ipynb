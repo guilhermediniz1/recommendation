{
 "cells": [
  {
   "cell_type": "code",
   "execution_count": 3,
   "id": "087d4adc-3ea2-46f1-8671-c44121256f99",
   "metadata": {},
   "outputs": [
    {
     "name": "stderr",
     "output_type": "stream",
     "text": [
      "/home/g/dev/recommendation/venv/lib/python3.12/site-packages/tqdm/auto.py:21: TqdmWarning: IProgress not found. Please update jupyter and ipywidgets. See https://ipywidgets.readthedocs.io/en/stable/user_install.html\n",
      "  from .autonotebook import tqdm as notebook_tqdm\n",
      "/tmp/ipykernel_3138/3798677165.py:3: DeprecationWarning: load_dataset is deprecated and will be removed in a future version.\n",
      "  games = kg.load_dataset(\n",
      "/tmp/ipykernel_3138/3798677165.py:9: DeprecationWarning: load_dataset is deprecated and will be removed in a future version.\n",
      "  users = kg.load_dataset(\n",
      "/tmp/ipykernel_3138/3798677165.py:15: DeprecationWarning: load_dataset is deprecated and will be removed in a future version.\n",
      "  recommendations = kg.load_dataset(\n"
     ]
    }
   ],
   "source": [
    "import kagglehub as kg\n",
    "\n",
    "games = kg.load_dataset(\n",
    "  kg.KaggleDatasetAdapter.PANDAS,\n",
    "  \"antonkozyriev/game-recommendations-on-steam\",\n",
    "  \"games.csv\"\n",
    ")\n",
    "\n",
    "users = kg.load_dataset(\n",
    "  kg.KaggleDatasetAdapter.PANDAS,\n",
    "  \"antonkozyriev/game-recommendations-on-steam\",\n",
    "  \"users.csv\"\n",
    ")\n",
    "\n",
    "recommendations = kg.load_dataset(\n",
    "  kg.KaggleDatasetAdapter.PANDAS,\n",
    "  \"antonkozyriev/game-recommendations-on-steam\",\n",
    "  \"recommendations.csv\"\n",
    ")"
   ]
  },
  {
   "cell_type": "code",
   "execution_count": 4,
   "id": "06a1da7f-70fe-44d1-b4ae-8342b81ed94d",
   "metadata": {},
   "outputs": [
    {
     "name": "stdout",
     "output_type": "stream",
     "text": [
      "Index(['app_id', 'title', 'date_release', 'win', 'mac', 'linux', 'rating',\n",
      "       'positive_ratio', 'user_reviews', 'price_final', 'price_original',\n",
      "       'discount', 'steam_deck'],\n",
      "      dtype='object')\n",
      "Index(['user_id', 'products', 'reviews'], dtype='object')\n",
      "Index(['app_id', 'helpful', 'funny', 'date', 'is_recommended', 'hours',\n",
      "       'user_id', 'review_id'],\n",
      "      dtype='object')\n"
     ]
    }
   ],
   "source": [
    "print(games.columns)\n",
    "print(users.columns)\n",
    "print(recommendations.columns)"
   ]
  },
  {
   "cell_type": "code",
   "execution_count": 9,
   "id": "3428abe8-fcc7-4bd2-a2a7-b952456e7e43",
   "metadata": {},
   "outputs": [
    {
     "name": "stdout",
     "output_type": "stream",
     "text": [
      "(50872, 13)\n",
      "(41154794, 8)\n",
      "(14306064, 3)\n"
     ]
    }
   ],
   "source": [
    "print(games.shape)\n",
    "print(recommendations.shape)\n",
    "print(users.shape)"
   ]
  },
  {
   "cell_type": "code",
   "execution_count": 12,
   "id": "4e502893-9189-48e1-ad73-bd4c68bd0cd8",
   "metadata": {},
   "outputs": [
    {
     "data": {
      "text/plain": [
       "count     41154794\n",
       "unique           2\n",
       "top           True\n",
       "freq      35304398\n",
       "Name: is_recommended, dtype: object"
      ]
     },
     "execution_count": 12,
     "metadata": {},
     "output_type": "execute_result"
    }
   ],
   "source": [
    "recommendations['is_recommended'].describe()"
   ]
  }
 ],
 "metadata": {
  "kernelspec": {
   "display_name": "Python 3 (ipykernel)",
   "language": "python",
   "name": "python3"
  },
  "language_info": {
   "codemirror_mode": {
    "name": "ipython",
    "version": 3
   },
   "file_extension": ".py",
   "mimetype": "text/x-python",
   "name": "python",
   "nbconvert_exporter": "python",
   "pygments_lexer": "ipython3",
   "version": "3.12.0"
  }
 },
 "nbformat": 4,
 "nbformat_minor": 5
}
